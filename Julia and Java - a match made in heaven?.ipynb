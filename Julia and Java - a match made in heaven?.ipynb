{
 "cells": [
  {
   "cell_type": "markdown",
   "metadata": {
    "slideshow": {
     "slide_type": "slide"
    }
   },
   "source": [
    "##JavaCall\n",
    "\n",
    "* `Pkg.add(JavaCall)`\n",
    "* Works with JDK `1.7` and `1.8`\n",
    "* JVM needs to be of the same \"bit-ness\" as Julia\n",
    " * ie, do not mix 32-bit and 64-bit libraries\n",
    "* Can call (almost) any Java methods, with any arguments"
   ]
  },
  {
   "cell_type": "markdown",
   "metadata": {
    "slideshow": {
     "slide_type": "slide"
    }
   },
   "source": [
    "###Caveats\n",
    "* Cant yet handle multi dimensional arrays\n",
    "* Some segault errors (being actively hunted down)\n",
    " * But try it and see if it works for you (it does for me)\n",
    "* JVM can only be loaded once per process\n",
    "* Julia and Java GC's don't communicate memory pressure"
   ]
  },
  {
   "cell_type": "code",
   "execution_count": 1,
   "metadata": {
    "collapsed": false,
    "slideshow": {
     "slide_type": "slide"
    }
   },
   "outputs": [
    {
     "name": "stdout",
     "output_type": "stream",
     "text": [
      "Loaded /Library/Java/JavaVirtualMachines/jdk1.7.0_76.jdk/Contents/Home/jre/lib/server/libjvm.dylib\n"
     ]
    }
   ],
   "source": [
    "using JavaCall"
   ]
  },
  {
   "cell_type": "code",
   "execution_count": 2,
   "metadata": {
    "collapsed": false,
    "slideshow": {
     "slide_type": "subslide"
    }
   },
   "outputs": [],
   "source": [
    "\n",
    "tika_jar = \"/Users/aviks/.julia/v0.3/Taro/deps/tika-app-1.4.jar\"\n",
    "\n",
    "JavaCall.addClassPath(tika_jar)\n",
    "JavaCall.addOpts(\"-Xmx256M\")\n",
    "JavaCall.addOpts(\"-Djava.awt.headless=true\")\n",
    "\n",
    "JavaCall.init()"
   ]
  },
  {
   "cell_type": "code",
   "execution_count": 3,
   "metadata": {
    "collapsed": false,
    "slideshow": {
     "slide_type": "slide"
    }
   },
   "outputs": [
    {
     "data": {
      "text/plain": [
       "JavaObject{symbol(\"java.io.File\")} (constructor with 2 methods)"
      ]
     },
     "execution_count": 3,
     "metadata": {},
     "output_type": "execute_result"
    }
   ],
   "source": [
    "File = @jimport java.io.File"
   ]
  },
  {
   "cell_type": "code",
   "execution_count": 4,
   "metadata": {
    "collapsed": false,
    "slideshow": {
     "slide_type": "fragment"
    }
   },
   "outputs": [
    {
     "data": {
      "text/plain": [
       "DataType"
      ]
     },
     "execution_count": 4,
     "metadata": {},
     "output_type": "execute_result"
    }
   ],
   "source": [
    "typeof(JavaObject{symbol(\"java.io.File\")})"
   ]
  },
  {
   "cell_type": "markdown",
   "metadata": {
    "slideshow": {
     "slide_type": "fragment"
    }
   },
   "source": [
    "https://docs.oracle.com/javase/7/docs/api/java/io/File.html"
   ]
  },
  {
   "cell_type": "code",
   "execution_count": 5,
   "metadata": {
    "collapsed": false,
    "slideshow": {
     "slide_type": "fragment"
    }
   },
   "outputs": [
    {
     "data": {
      "text/plain": [
       "JavaObject{symbol(\"java.io.File\")} (constructor with 2 methods)"
      ]
     },
     "execution_count": 5,
     "metadata": {},
     "output_type": "execute_result"
    }
   ],
   "source": [
    "File = @jimport java.io.File"
   ]
  },
  {
   "cell_type": "code",
   "execution_count": 6,
   "metadata": {
    "collapsed": false,
    "slideshow": {
     "slide_type": "fragment"
    }
   },
   "outputs": [
    {
     "data": {
      "text/plain": [
       "JavaObject{symbol(\"java.io.File\")}(Ptr{Void} @0x00007fe3b95c5e60)"
      ]
     },
     "execution_count": 6,
     "metadata": {},
     "output_type": "execute_result"
    }
   ],
   "source": [
    "f=File((JString,), \"/Users/aviks/.julia/v0.3/Taro/test/df-test.xlsx\")"
   ]
  },
  {
   "cell_type": "markdown",
   "metadata": {
    "slideshow": {
     "slide_type": "fragment"
    }
   },
   "source": [
    "https://poi.apache.org/apidocs/"
   ]
  },
  {
   "cell_type": "code",
   "execution_count": 7,
   "metadata": {
    "collapsed": false,
    "slideshow": {
     "slide_type": "slide"
    }
   },
   "outputs": [
    {
     "data": {
      "text/plain": [
       "JavaObject{symbol(\"org.apache.poi.ss.usermodel.Cell\")} (constructor with 2 methods)"
      ]
     },
     "execution_count": 7,
     "metadata": {},
     "output_type": "execute_result"
    }
   ],
   "source": [
    "WorkbookFactory = @jimport org.apache.poi.ss.usermodel.WorkbookFactory\n",
    "Workbook = @jimport org.apache.poi.ss.usermodel.Workbook\n",
    "Sheet = @jimport org.apache.poi.ss.usermodel.Sheet\n",
    "Row = @jimport org.apache.poi.ss.usermodel.Row\n",
    "Cell = @jimport org.apache.poi.ss.usermodel.Cell"
   ]
  },
  {
   "cell_type": "code",
   "execution_count": 8,
   "metadata": {
    "collapsed": false,
    "slideshow": {
     "slide_type": "slide"
    }
   },
   "outputs": [
    {
     "name": "stderr",
     "output_type": "stream",
     "text": [
      "\n",
      "signal (11): Segmentation fault: 11\n",
      "unknown function (ip: 330076123)\n"
     ]
    },
    {
     "data": {
      "text/plain": [
       "JavaObject{symbol(\"org.apache.poi.ss.usermodel.Workbook\")}(Ptr{Void} @0x00007fe3b95c5f30)"
      ]
     },
     "execution_count": 8,
     "metadata": {},
     "output_type": "execute_result"
    }
   ],
   "source": [
    "book = jcall(WorkbookFactory, \"create\", Workbook, (File,), f)"
   ]
  },
  {
   "cell_type": "markdown",
   "metadata": {
    "slideshow": {
     "slide_type": "subslide"
    }
   },
   "source": [
    "###jcall \n",
    "\n",
    "* like ccall, or pycall, but object oriented\n",
    "* inputs are: \n",
    " * reciever -- class(static methods) or object (instance methods)\n",
    " * `Type` of return\n",
    " * `Tuple` of argument types\n",
    " * the arguments...\n",
    "* These are the `types` of the method being called\n",
    " * ie, they should be Java Types\n",
    "* Constructors are implemented using `jcall` but have some syntactic sugar\n",
    " * Don't have to specify return type"
   ]
  },
  {
   "cell_type": "markdown",
   "metadata": {
    "slideshow": {
     "slide_type": "slide"
    }
   },
   "source": [
    "### Type correspondence\n",
    "* Types are converted automatically\n",
    "* Methods arguments converted from Julia to Java\n",
    " * for bitstypes, Strings, and arrays thereof\n",
    "* Method return values are converted from Java to Julia\n",
    " * for primitive types and Strings\n",
    "* Java composite types are stored as opaque pointers inside `JavaObject`\n",
    "* Data is copied"
   ]
  },
  {
   "cell_type": "markdown",
   "metadata": {
    "slideshow": {
     "slide_type": "slide"
    }
   },
   "source": [
    "```\n",
    "typealias jint Cint\n",
    "typealias jlong Clonglong\n",
    "typealias jbyte Cchar\n",
    "typealias jboolean Cuchar\n",
    "typealias jchar Cushort\n",
    "typealias jshort Cshort\n",
    "typealias jfloat Cfloat\n",
    "typealias jdouble Cdouble\n",
    "typealias jsize jint\n",
    "jprimitive = Union(jboolean, jchar, jshort, jfloat, jdouble, jint, jlong)\n",
    "```\n",
    "\n",
    "\n",
    "```\n",
    "typealias JString JavaObject{symbol(\"java.lang.String\")}\n",
    "typealias JObject JavaObject{symbol(\"java.lang.Object\")}\n",
    "```"
   ]
  },
  {
   "cell_type": "code",
   "execution_count": 9,
   "metadata": {
    "collapsed": false,
    "slideshow": {
     "slide_type": "slide"
    }
   },
   "outputs": [
    {
     "data": {
      "text/plain": [
       "JavaObject{symbol(\"org.apache.poi.ss.usermodel.Workbook\")} (constructor with 2 methods)"
      ]
     },
     "execution_count": 9,
     "metadata": {},
     "output_type": "execute_result"
    }
   ],
   "source": [
    "typeof(book)"
   ]
  },
  {
   "cell_type": "code",
   "execution_count": 10,
   "metadata": {
    "collapsed": false,
    "slideshow": {
     "slide_type": "fragment"
    }
   },
   "outputs": [
    {
     "data": {
      "text/plain": [
       "JavaObject{symbol(\"org.apache.poi.ss.usermodel.Sheet\")}(Ptr{Void} @0x00007fe3b95c5f48)"
      ]
     },
     "execution_count": 10,
     "metadata": {},
     "output_type": "execute_result"
    }
   ],
   "source": [
    "if isnull(book) ; error(\"Unable to load Excel file: $filename\"); end\n",
    "Sheet = @jimport org.apache.poi.ss.usermodel.Sheet\n",
    "sheet = jcall(book, \"getSheet\", Sheet, (JString,), \"Sheet1\") "
   ]
  },
  {
   "cell_type": "code",
   "execution_count": 11,
   "metadata": {
    "collapsed": false,
    "slideshow": {
     "slide_type": "fragment"
    }
   },
   "outputs": [
    {
     "data": {
      "text/plain": [
       "JavaObject{symbol(\"org.apache.poi.ss.usermodel.Row\")}(Ptr{Void} @0x00007fe3b95c5f18)"
      ]
     },
     "execution_count": 11,
     "metadata": {},
     "output_type": "execute_result"
    }
   ],
   "source": [
    "row = jcall(sheet, \"getRow\", Row, (jint,), 3)"
   ]
  },
  {
   "cell_type": "code",
   "execution_count": 12,
   "metadata": {
    "collapsed": false,
    "slideshow": {
     "slide_type": "fragment"
    }
   },
   "outputs": [
    {
     "data": {
      "text/plain": [
       "JavaObject{symbol(\"org.apache.poi.ss.usermodel.Cell\")}(Ptr{Void} @0x00007fe3b95c5f08)"
      ]
     },
     "execution_count": 12,
     "metadata": {},
     "output_type": "execute_result"
    }
   ],
   "source": [
    "if isnull(row); error(\"bad row number\"); end \n",
    "cell = jcall(row, \"getCell\", Cell, (jint,), 1)"
   ]
  },
  {
   "cell_type": "code",
   "execution_count": 13,
   "metadata": {
    "collapsed": false,
    "slideshow": {
     "slide_type": "fragment"
    }
   },
   "outputs": [
    {
     "data": {
      "text/plain": [
       "1"
      ]
     },
     "execution_count": 13,
     "metadata": {},
     "output_type": "execute_result"
    }
   ],
   "source": [
    "celltype = jcall(cell, \"getCellType\", jint, (),)"
   ]
  },
  {
   "cell_type": "code",
   "execution_count": 14,
   "metadata": {
    "collapsed": true,
    "slideshow": {
     "slide_type": "fragment"
    }
   },
   "outputs": [],
   "source": [
    "const CELL_TYPE_NUMERIC = 0;\n",
    "const CELL_TYPE_STRING = 1;\n",
    "const CELL_TYPE_FORMULA = 2;\n",
    "const CELL_TYPE_BLANK = 3;\n",
    "const CELL_TYPE_BOOLEAN = 4;\n",
    "const CELL_TYPE_ERROR = 5;"
   ]
  },
  {
   "cell_type": "code",
   "execution_count": 15,
   "metadata": {
    "collapsed": false,
    "slideshow": {
     "slide_type": "fragment"
    }
   },
   "outputs": [
    {
     "data": {
      "text/plain": [
       "\"b\""
      ]
     },
     "execution_count": 15,
     "metadata": {},
     "output_type": "execute_result"
    }
   ],
   "source": [
    "value = jcall(cell, \"getStringCellValue\", JString, (),)"
   ]
  },
  {
   "cell_type": "code",
   "execution_count": 16,
   "metadata": {
    "collapsed": false,
    "slideshow": {
     "slide_type": "fragment"
    }
   },
   "outputs": [
    {
     "data": {
      "text/plain": [
       "JavaObject{symbol(\"org.apache.poi.ss.usermodel.Cell\")}(Ptr{Void} @0x00007fe3b95c5ef0)"
      ]
     },
     "execution_count": 16,
     "metadata": {},
     "output_type": "execute_result"
    }
   ],
   "source": [
    "cell = jcall(row, \"getCell\", Cell, (jint,), 2)"
   ]
  },
  {
   "cell_type": "code",
   "execution_count": 17,
   "metadata": {
    "collapsed": false,
    "slideshow": {
     "slide_type": "fragment"
    }
   },
   "outputs": [
    {
     "data": {
      "text/plain": [
       "0"
      ]
     },
     "execution_count": 17,
     "metadata": {},
     "output_type": "execute_result"
    }
   ],
   "source": [
    "celltype = jcall(cell, \"getCellType\", jint, (),)"
   ]
  },
  {
   "cell_type": "code",
   "execution_count": 18,
   "metadata": {
    "collapsed": false,
    "slideshow": {
     "slide_type": "fragment"
    }
   },
   "outputs": [
    {
     "data": {
      "text/plain": [
       "2.0"
      ]
     },
     "execution_count": 18,
     "metadata": {},
     "output_type": "execute_result"
    }
   ],
   "source": [
    "jcall(cell, \"getNumericCellValue\", jdouble, (),)"
   ]
  },
  {
   "cell_type": "markdown",
   "metadata": {
    "slideshow": {
     "slide_type": "slide"
    }
   },
   "source": [
    "### Error Handling\n",
    "* returned objects should be checked for NULL\n",
    " * `segfault` instead of `NullPointerException`\n",
    "* Exceptions are propagated in most other situations"
   ]
  },
  {
   "cell_type": "code",
   "execution_count": 19,
   "metadata": {
    "collapsed": false,
    "slideshow": {
     "slide_type": "fragment"
    }
   },
   "outputs": [
    {
     "name": "stderr",
     "output_type": "stream",
     "text": [
      "Exception in thread \"main\" java.lang.NoSuchMethodError: sins\n"
     ]
    },
    {
     "ename": "LoadError",
     "evalue": "Error calling Java: java.lang.NoSuchMethodError: sins\nwhile loading In[19], in expression starting on line 2",
     "output_type": "error",
     "traceback": [
      "Error calling Java: java.lang.NoSuchMethodError: sins\nwhile loading In[19], in expression starting on line 2",
      "",
      " in error at error.jl:21",
      " in geterror at /Users/aviks/.julia/v0.3/JavaCall/src/JavaCall.jl:235",
      " in jcall at /Users/aviks/.julia/v0.3/JavaCall/src/JavaCall.jl:257"
     ]
    }
   ],
   "source": [
    "jlm = @jimport \"java.lang.Math\"\n",
    "jcall(jlm, \"sins\", jdouble, (jdouble,), pi/2)"
   ]
  },
  {
   "cell_type": "code",
   "execution_count": null,
   "metadata": {
    "collapsed": true
   },
   "outputs": [],
   "source": []
  }
 ],
 "metadata": {
  "celltoolbar": "Slideshow",
  "kernelspec": {
   "display_name": "Julia 0.3.9-pre",
   "language": "julia",
   "name": "julia-0.3"
  },
  "language_info": {
   "name": "julia",
   "version": "0.3.9"
  }
 },
 "nbformat": 4,
 "nbformat_minor": 0
}
