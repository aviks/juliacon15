{
 "cells": [
  {
   "cell_type": "markdown",
   "metadata": {
    "collapsed": false,
    "slideshow": {
     "slide_type": "slide"
    }
   },
   "source": [
    "\n",
    "\n",
    "   ##Julia and the World\n",
    "\n",
    "### Calling C Programs"
   ]
  },
  {
   "cell_type": "markdown",
   "metadata": {
    "collapsed": true,
    "slideshow": {
     "slide_type": "slide"
    }
   },
   "source": [
    "* Seamless calls to C programs is a major feature \n",
    "* Zero overhead \n",
    "* No compilation / pre-processing required\n",
    " * Directly call shared libraries"
   ]
  },
  {
   "cell_type": "markdown",
   "metadata": {
    "collapsed": true,
    "slideshow": {
     "slide_type": "slide"
    }
   },
   "source": [
    "## What does the compiler need to know to call a C function\n",
    "\n",
    "* The library\n",
    "* The name\n",
    "* The number and types of arguments\n",
    "* The return type\n",
    "* The argument values"
   ]
  },
  {
   "cell_type": "markdown",
   "metadata": {
    "slideshow": {
     "slide_type": "slide"
    }
   },
   "source": [
    "## `ccall`\n",
    "\n",
    "`ccall( (:name, \"lib\"), return_type, (arg1_type, arg2_type...), arg1, arg2...)`"
   ]
  },
  {
   "cell_type": "code",
   "execution_count": 29,
   "metadata": {
    "collapsed": false,
    "slideshow": {
     "slide_type": "fragment"
    }
   },
   "outputs": [
    {
     "data": {
      "text/plain": [
       "9758500"
      ]
     },
     "execution_count": 29,
     "metadata": {},
     "output_type": "execute_result"
    }
   ],
   "source": [
    "ccall( (:clock, :libc), Int32, ())"
   ]
  },
  {
   "cell_type": "code",
   "execution_count": 10,
   "metadata": {
    "collapsed": false,
    "slideshow": {
     "slide_type": "fragment"
    }
   },
   "outputs": [
    {
     "data": {
      "text/plain": [
       "9049174"
      ]
     },
     "execution_count": 10,
     "metadata": {},
     "output_type": "execute_result"
    }
   ],
   "source": [
    "ccall( (:clock, \"libc\"), Cint, ())"
   ]
  },
  {
   "cell_type": "markdown",
   "metadata": {
    "slideshow": {
     "slide_type": "slide"
    }
   },
   "source": [
    "### Aliases for C types\n",
    "\n",
    "* Cint, Cuint\n",
    "* Clong, Culong\n",
    "* Cchar\n",
    "* Csize_t\n",
    "* ... etc \n",
    "http://docs.julialang.org/en/release-0.3/manual/calling-c-and-fortran-code/#type-correspondences"
   ]
  },
  {
   "cell_type": "code",
   "execution_count": 9,
   "metadata": {
    "collapsed": false,
    "slideshow": {
     "slide_type": "slide"
    }
   },
   "outputs": [
    {
     "data": {
      "text/plain": [
       "\"/bin/bash\""
      ]
     },
     "execution_count": 9,
     "metadata": {},
     "output_type": "execute_result"
    }
   ],
   "source": [
    "path = ccall( (:getenv, :libc), Ptr{Cchar}, (Ptr{Cchar},), \"SHELL\")\n",
    "bytestring(path)"
   ]
  },
  {
   "cell_type": "markdown",
   "metadata": {
    "slideshow": {
     "slide_type": "subslide"
    }
   },
   "source": [
    "### Ptr{T} : The pointer type\n",
    "\n",
    "* `Ptr{Cint}` : `int*`\n",
    "* `Ptr{Unit8}` or `Ptr{Cchar}` : `char*`\n",
    "* `Ptr{Void}` or `Ptr{None}` : `void*`"
   ]
  },
  {
   "cell_type": "markdown",
   "metadata": {
    "slideshow": {
     "slide_type": "subslide"
    }
   },
   "source": [
    "### Pointer conversions\n",
    "\n",
    "* Julia Strings converted to `Ptr{Cchar}`\n",
    "* Array{T} converted to `Ptr{T}`\n",
    "* Other values can be converted by &\n",
    " * Not the same as C & \n",
    " * No writeback for immutables\n",
    " * In `v0.4` use Ref{T}"
   ]
  },
  {
   "cell_type": "markdown",
   "metadata": {
    "slideshow": {
     "slide_type": "slide"
    }
   },
   "source": [
    "### The Array Trick\n",
    "* A Julia Array can be used to allocate memory on the Julia side\n",
    "* The array can be passed as a pointer"
   ]
  },
  {
   "cell_type": "code",
   "execution_count": 33,
   "metadata": {
    "collapsed": false,
    "slideshow": {
     "slide_type": "fragment"
    }
   },
   "outputs": [
    {
     "data": {
      "text/plain": [
       "\"avik-mb.local\""
      ]
     },
     "execution_count": 33,
     "metadata": {},
     "output_type": "execute_result"
    }
   ],
   "source": [
    "hostname = Array(Uint8, 128)\n",
    "ccall( (:gethostname, :libc), Int32, (Ptr{Uint8}, Uint), \n",
    "                                       hostname, length(hostname))\n",
    "bytestring(convert(Ptr{Uint8}, hostname))"
   ]
  },
  {
   "cell_type": "markdown",
   "metadata": {
    "slideshow": {
     "slide_type": "slide"
    }
   },
   "source": [
    "### Structs\n",
    "* C structs can be replicated on the Julia side by a composite type\n",
    "* In 0.3, structs can only be passed by via a pointer\n",
    "* In 0.4, structs can also be passed by value"
   ]
  },
  {
   "cell_type": "code",
   "execution_count": 3,
   "metadata": {
    "collapsed": false,
    "slideshow": {
     "slide_type": "fragment"
    }
   },
   "outputs": [
    {
     "data": {
      "text/plain": [
       "strptime (generic function with 1 method)"
      ]
     },
     "execution_count": 3,
     "metadata": {},
     "output_type": "execute_result"
    }
   ],
   "source": [
    "type TimeStruct\n",
    "    sec::Int32\n",
    "    min::Int32\n",
    "    hour::Int32\n",
    "    mday::Int32\n",
    "    month::Int32\n",
    "    year::Int32\n",
    "    wday::Int32\n",
    "    yday::Int32\n",
    "    isdst::Int32\n",
    "    # on some platforms the struct is 14 words, even though 9 are specified\n",
    "    _10::Int32\n",
    "    _11::Int32\n",
    "    _12::Int32\n",
    "    _13::Int32\n",
    "    _14::Int32\n",
    "\n",
    "    TimeStruct() = new(0,0,0,0,0,0,0,0,0,0,0,0,0,0)\n",
    "    \n",
    "end\n",
    "function strptime (date_string)\n",
    "    tm = TimeStruct()\n",
    "    r = ccall( (:strptime, :libc), Ptr{Uint8}, (Ptr{Uint8}, Ptr{Uint8}, Ptr{Void}), \n",
    "                date_string, \"%c\", &tm)\n",
    "    if r==C_NULL; error(\"Invalid Date\"); end\n",
    "    return tm\n",
    "end\n"
   ]
  },
  {
   "cell_type": "code",
   "execution_count": 5,
   "metadata": {
    "collapsed": false,
    "slideshow": {
     "slide_type": "fragment"
    }
   },
   "outputs": [
    {
     "data": {
      "text/plain": [
       "TimeStruct(16,18,22,26,5,115,5,0,0,0,0,0,0,0)"
      ]
     },
     "execution_count": 5,
     "metadata": {},
     "output_type": "execute_result"
    }
   ],
   "source": [
    "strptime(\"Fri 26 Jun 22:18:16 2015\")"
   ]
  },
  {
   "cell_type": "markdown",
   "metadata": {
    "slideshow": {
     "slide_type": "slide"
    }
   },
   "source": [
    "###unsafe_load\n",
    "\n",
    "* Given a value `x` of type `Ptr{T}` where `T` is a julia type:\n",
    "* `unsafe_load(x)` will copy the data referenced by the pointer \n",
    "* into a julia object of type `T`\n"
   ]
  },
  {
   "cell_type": "markdown",
   "metadata": {
    "slideshow": {
     "slide_type": "subslide"
    }
   },
   "source": [
    "* when the pointer of type `Ptr{T}` points to an array of elements `T`\n",
    "* unafe_pointer_to_array(x, dims, [own]) creats an Array{T, N}\n",
    "* where N = length(dims)\n",
    "* the underlying data is not copied, and is freed by the Julia GC is `own=true`\n"
   ]
  },
  {
   "cell_type": "markdown",
   "metadata": {
    "slideshow": {
     "slide_type": "subslide"
    }
   },
   "source": [
    "#### The function is called `unsafe` for a reason... segfaults are to be expected if you lie!"
   ]
  },
  {
   "cell_type": "markdown",
   "metadata": {
    "slideshow": {
     "slide_type": "slide"
    }
   },
   "source": [
    "#Exercise: GMP"
   ]
  },
  {
   "cell_type": "markdown",
   "metadata": {
    "slideshow": {
     "slide_type": "slide"
    }
   },
   "source": [
    "## Advanced: Passing Julia Functions into C code\n",
    "\n"
   ]
  },
  {
   "cell_type": "markdown",
   "metadata": {
    "slideshow": {
     "slide_type": "slide"
    }
   },
   "source": [
    "### Standard library C qsort routine\n",
    "* pass a custom comparison function to `qsort`\n",
    "\n",
    "`void qsort(void *base, size_t nmemb, size_t size,\n",
    "           int(*compare)(const void *a, const void *b));`"
   ]
  },
  {
   "cell_type": "code",
   "execution_count": 47,
   "metadata": {
    "collapsed": false,
    "slideshow": {
     "slide_type": "fragment"
    }
   },
   "outputs": [
    {
     "data": {
      "text/plain": [
       "cint (generic function with 1 method)"
      ]
     },
     "execution_count": 47,
     "metadata": {},
     "output_type": "execute_result"
    }
   ],
   "source": [
    "function julia_compare{T}(a_pointer::Ptr{T}, b_pointer::Ptr{T})\n",
    "    a::T = unsafe_load(a_pointer)\n",
    "    b::T = unsafe_load(b_pointer)\n",
    "    println(\"Sorting $a and $b of type $T\") \n",
    "    return a < b ? cint(-1) : a > b ? cint(+1) : cint(0)\n",
    "end\n",
    "cint(x) = convert(Cint, x)"
   ]
  },
  {
   "cell_type": "code",
   "execution_count": 48,
   "metadata": {
    "collapsed": false,
    "slideshow": {
     "slide_type": "fragment"
    }
   },
   "outputs": [
    {
     "name": "stderr",
     "output_type": "stream",
     "text": [
      "Warning: redefining constant julia_compare_c\n"
     ]
    },
    {
     "data": {
      "text/plain": [
       "Ptr{Void} @0x00000001135cfe30"
      ]
     },
     "execution_count": 48,
     "metadata": {},
     "output_type": "execute_result"
    }
   ],
   "source": [
    "const julia_compare_c = cfunction(julia_compare, Cint, (Ptr{Cdouble}, Ptr{Cdouble}))"
   ]
  },
  {
   "cell_type": "code",
   "execution_count": 49,
   "metadata": {
    "collapsed": false,
    "slideshow": {
     "slide_type": "fragment"
    }
   },
   "outputs": [
    {
     "name": "stdout",
     "output_type": "stream",
     "text": [
      "Sorting 2.2 and 1.3 of type Float64\n",
      "Sorting 2.2 and -3.4 of type Float64\n",
      "Sorting 1.3 and -3.4 of type Float64\n",
      "Sorting 2.2 and 5.6 of type Float64\n",
      "Sorting 5.6 and 2.6 of type Float64\n",
      "Sorting 2.2 and 2.6 of type Float64\n"
     ]
    }
   ],
   "source": [
    "A = [2.2, 1.3, -3.4, 5.6, 2.6]\n",
    "ccall( (:qsort, :libc) , Void, (Ptr{Cdouble}, Csize_t, Csize_t, Ptr{Void}),\n",
    "              A, length(A), sizeof(eltype(A)), julia_compare_c)"
   ]
  },
  {
   "cell_type": "code",
   "execution_count": 45,
   "metadata": {
    "collapsed": false
   },
   "outputs": [
    {
     "data": {
      "text/plain": [
       "5-element Array{Float64,1}:\n",
       " -3.4\n",
       "  1.3\n",
       "  2.2\n",
       "  2.6\n",
       "  5.6"
      ]
     },
     "execution_count": 45,
     "metadata": {},
     "output_type": "execute_result"
    }
   ],
   "source": [
    "A"
   ]
  },
  {
   "cell_type": "markdown",
   "metadata": {
    "slideshow": {
     "slide_type": "slide"
    }
   },
   "source": [
    "## Even More Advanced: Calling functions from a different C thread"
   ]
  },
  {
   "cell_type": "code",
   "execution_count": 53,
   "metadata": {
    "collapsed": false,
    "slideshow": {
     "slide_type": "fragment"
    }
   },
   "outputs": [
    {
     "name": "stderr",
     "output_type": "stream",
     "text": [
      "Warning: redefining constant callback_other_thread_c\n"
     ]
    },
    {
     "data": {
      "text/plain": [
       "Ptr{Void} @0x00000001135d0620"
      ]
     },
     "execution_count": 53,
     "metadata": {},
     "output_type": "execute_result"
    }
   ],
   "source": [
    "#Dummy code\n",
    "real_callback(data) = print(data)\n",
    "\n",
    "function real_callback_handle(obj::Any)\n",
    "    work = Base.SingleAsyncWork(real_callback)\n",
    "    work.handle\n",
    "end\n",
    "\n",
    "function callback_other_thread(handle::Ptr{Void})\n",
    "    ccall(:uv_async_send,Cint,(Ptr{Void},),handle)\n",
    "end\n",
    "\n",
    "const callback_other_thread_c = cfunction(callback_other_thread, Cint, (Ptr{Void}, ))\n"
   ]
  },
  {
   "cell_type": "code",
   "execution_count": null,
   "metadata": {
    "collapsed": true,
    "slideshow": {
     "slide_type": "fragment"
    }
   },
   "outputs": [],
   "source": []
  }
 ],
 "metadata": {
  "celltoolbar": "Slideshow",
  "kernelspec": {
   "display_name": "Julia 0.3.9-pre",
   "language": "julia",
   "name": "julia-0.3"
  },
  "language_info": {
   "name": "julia",
   "version": "0.3.9"
  }
 },
 "nbformat": 4,
 "nbformat_minor": 0
}
